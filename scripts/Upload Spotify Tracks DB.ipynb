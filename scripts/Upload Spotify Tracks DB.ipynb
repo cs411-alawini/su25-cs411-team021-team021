{
 "cells": [
  {
   "cell_type": "markdown",
   "id": "92dbcdf2",
   "metadata": {},
   "source": [
    "# Upload Spotify Tracks DB\n",
    "\n",
    "Upload the dataset to DB using the datatset https://www.kaggle.com/datasets/zaheenhamidani/ultimate-spotify-tracks-db"
   ]
  },
  {
   "cell_type": "markdown",
   "id": "8c83443c",
   "metadata": {},
   "source": [
    "We have the database credentials saved in the `db_config.txt` file. Please reference `db_config_example.txt` for format. "
   ]
  },
  {
   "cell_type": "code",
   "execution_count": 7,
   "id": "941b5fad",
   "metadata": {},
   "outputs": [],
   "source": [
    "def read_db_config(filename=\"db_config.txt\"):\n",
    "    config = {}\n",
    "    with open(filename, \"r\") as f:\n",
    "        for line in f:\n",
    "            line = line.strip()\n",
    "            if not line or line.startswith(\"#\"):\n",
    "                continue  # Skip empty or commented lines\n",
    "            key, sep, value = line.partition(\"=\")\n",
    "            if sep:\n",
    "                config[key.strip()] = value.strip()\n",
    "    return config"
   ]
  },
  {
   "cell_type": "code",
   "execution_count": 8,
   "id": "09671fb7",
   "metadata": {},
   "outputs": [],
   "source": [
    "import pandas as pd\n",
    "\n",
    "CSV = \"../data/SpotifyFeatures.csv\"\n",
    "KEEP = [\"track_id\", \"track_name\", \"artist_name\", \"valence\", \"tempo\", \"popularity\"]\n",
    "df = pd.read_csv(CSV, usecols=KEEP)\n",
    "\n",
    "df.rename(\n",
    "    columns={\n",
    "        \"track_id\": \"spotify_id\",\n",
    "        \"track_name\": \"track_name\",\n",
    "        \"artist_name\": \"artist\",\n",
    "    },\n",
    "    inplace=True,\n",
    ")\n",
    "\n",
    "df = df[[\"spotify_id\", \"track_name\", \"artist\", \"valence\", \"tempo\", \"popularity\"]]\n",
    "df.dropna(subset=[\"spotify_id\", \"track_name\"], inplace=True)"
   ]
  },
  {
   "cell_type": "markdown",
   "id": "694c2b42",
   "metadata": {},
   "source": [
    "Noted that in this code, we uses password to authenticate, and MySQL >= 9 no longer support the native password plugin. \n",
    "\n",
    "You can use\n",
    "```sql\n",
    "SELECT user, host, plugin from mysql.user WHERE plugin='mysql_native_password';\n",
    "```\n",
    "on the database to test which accounts have this plugin loaded."
   ]
  },
  {
   "cell_type": "code",
   "execution_count": 9,
   "id": "3980ea85",
   "metadata": {},
   "outputs": [
    {
     "name": "stdout",
     "output_type": "stream",
     "text": [
      "Inserted 0 rows into Song\n"
     ]
    }
   ],
   "source": [
    "import mysql.connector as mc\n",
    "import pandas as pd\n",
    "\n",
    "cfg = read_db_config()\n",
    "\n",
    "DB = dict(\n",
    "    host=cfg.get(\"DB_HOST\"),\n",
    "    user=cfg.get(\"DB_USER\"),\n",
    "    password=cfg.get(\"DB_PASS\"),\n",
    "    database=cfg.get(\"DB_NAME\"),\n",
    "    allow_local_infile=True,\n",
    ")\n",
    "conn = mc.connect(**DB)\n",
    "cur = conn.cursor()\n",
    "cur.executemany(\n",
    "    \"\"\"\n",
    "    INSERT IGNORE INTO Song\n",
    "      (spotify_id, track_name, artist, valence, tempo, popularity)\n",
    "    VALUES (%s,%s,%s,%s,%s,%s)\n",
    "\"\"\",\n",
    "    df.values.tolist(),\n",
    ")\n",
    "conn.commit()\n",
    "print(\"Inserted\", cur.rowcount, \"rows into Song\")\n",
    "cur.close()\n",
    "conn.close()"
   ]
  }
 ],
 "metadata": {
  "kernelspec": {
   "display_name": "melomood",
   "language": "python",
   "name": "python3"
  },
  "language_info": {
   "codemirror_mode": {
    "name": "ipython",
    "version": 3
   },
   "file_extension": ".py",
   "mimetype": "text/x-python",
   "name": "python",
   "nbconvert_exporter": "python",
   "pygments_lexer": "ipython3",
   "version": "3.10.18"
  }
 },
 "nbformat": 4,
 "nbformat_minor": 5
}
